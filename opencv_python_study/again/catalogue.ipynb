{
 "cells": [
  {
   "cell_type": "markdown",
   "metadata": {},
   "source": [
    "# 目录"
   ]
  },
  {
   "attachments": {},
   "cell_type": "markdown",
   "metadata": {},
   "source": [
    "## 第1章 OpenCV入门\n",
    "### 1.1 如何使用\n",
    "### 1.2 图像处理基本操作\n",
    "### 1.3 OpenCV贡献库"
   ]
  },
  {
   "attachments": {},
   "cell_type": "markdown",
   "metadata": {},
   "source": [
    "## 第2章 图像处理基础\n",
    "### 2.1 图像的基本表示方法\n",
    "### 2.2 像素处理\n",
    "### 2.3 使用numpy.array访问像素\n",
    "### 2.4 感兴趣区域（ROI）\n",
    "### 2.5 通道操作\n",
    "### 2.6 获取图像属性"
   ]
  },
  {
   "attachments": {},
   "cell_type": "markdown",
   "metadata": {},
   "source": [
    "## 第3章 图像运算\n",
    "### 3.1 图像加法运算\n",
    "### 3.2 图像加权和\n",
    "### 3.3 按位逻辑运算\n",
    "### 3.4 掩模\n",
    "### 3.5 图像与数值的运算\n",
    "### 3.6 位平面分解\n",
    "### 3.7 图像加密和解密\n",
    "### 3.8 数字水印\n",
    "### 3.9 脸部打码及解码"
   ]
  },
  {
   "attachments": {},
   "cell_type": "markdown",
   "metadata": {},
   "source": [
    "## 第4章 色彩空间类型转换\n",
    "### 4.1 色彩空间基础\n",
    "### 4.2 类型转换函数\n",
    "### 4.3 类型转换实例\n",
    "### 4.4 HSV色彩空间讨论\n",
    "### 4.5 alpha通道"
   ]
  },
  {
   "attachments": {},
   "cell_type": "markdown",
   "metadata": {},
   "source": [
    "## 第5章 几何变换\n",
    "### 5.1 缩放\n",
    "### 5.2 翻转\n",
    "### 5.3 仿射\n",
    "### 5.4 透视\n",
    "### 5.5 重映射"
   ]
  },
  {
   "attachments": {},
   "cell_type": "markdown",
   "metadata": {},
   "source": [
    "## 第6章 阈值处理\n",
    "### 6.1 threshold函数\n",
    "### 6.2 自适应阈值处理\n",
    "### 6.3 Otsu处理"
   ]
  },
  {
   "attachments": {},
   "cell_type": "markdown",
   "metadata": {},
   "source": [
    "## 第7章 图像平滑处理\n",
    "### 7.1 均值滤波\n",
    "### 7.2 方框滤波\n",
    "### 7.3 高斯滤波\n",
    "### 7.4 中值滤波\n",
    "### 7.5 双边滤波\n",
    "### 7.6 2D卷积"
   ]
  },
  {
   "attachments": {},
   "cell_type": "markdown",
   "metadata": {},
   "source": [
    "## 第8章 形态学操作\n",
    "### 8.1 腐蚀\n",
    "### 8.2 膨胀\n",
    "### 8.3 通用形态学函数\n",
    "### 8.4 开运算\n",
    "### 8.5 闭运算\n",
    "### 8.6 形态学梯度运算\n",
    "### 8.7 礼帽运算\n",
    "### 8.8 黑帽运算\n",
    "### 8.9 核函数"
   ]
  },
  {
   "attachments": {},
   "cell_type": "markdown",
   "metadata": {},
   "source": [
    "## 第9章 图像梯度\n",
    "### 9.1 Sobel理论基础\n",
    "### 9.2 Sobel算子及函数使用\n",
    "### 9.3 Scharr算子及函数使用\n",
    "### 9.4 Sobel算子和Scharr算子的比较\n",
    "### 9.5 Laplacian算子及函数使用\n",
    "### 9.6 算子总结"
   ]
  },
  {
   "attachments": {},
   "cell_type": "markdown",
   "metadata": {},
   "source": [
    "## 第10章 Canny边缘检测\n",
    "### 10.1 Canny边缘检测基础\n",
    "### 10.2 Canny函数及使用"
   ]
  },
  {
   "attachments": {},
   "cell_type": "markdown",
   "metadata": {},
   "source": [
    "## 第11章 图像金字塔\n",
    "### 11.1 理论基础\n",
    "### 11.2 pyrDown函数及使用\n",
    "### 11.3 pyrUp函数及使用\n",
    "### 11.4 采样可逆性的研究\n",
    "### 11.5 拉普拉斯金字塔"
   ]
  },
  {
   "attachments": {},
   "cell_type": "markdown",
   "metadata": {},
   "source": [
    "## 第12章 图像轮廓\n",
    "### 12.1 查找并绘制轮廓\n",
    "### 12.2 矩特征\n",
    "### 12.3 Hu矩\n",
    "### 12.4 轮廓拟合\n",
    "### 12.5 凸包\n",
    "### 12.6 利用形状场景算法比较轮廓\n",
    "### 12.7 轮廓的特征值"
   ]
  },
  {
   "attachments": {},
   "cell_type": "markdown",
   "metadata": {},
   "source": [
    "## 第13章 直方图处理\n",
    "### 13.1 直方图的含义\n",
    "### 13.2 绘制直方图\n",
    "### 13.3 直方图均衡化\n",
    "### 13.4 pyplot模块介绍"
   ]
  },
  {
   "attachments": {},
   "cell_type": "markdown",
   "metadata": {},
   "source": [
    "## 第14章 傅里叶变换\n",
    "### 14.1 理论基础\n",
    "### 14.2 Numpy实现傅里叶变换\n",
    "### 14.3 OpenCV实现傅里叶变换"
   ]
  },
  {
   "attachments": {},
   "cell_type": "markdown",
   "metadata": {},
   "source": [
    "## 第15章 模板匹配\n",
    "### 15.1 模板匹配基础\n",
    "### 15.2 多模板匹配"
   ]
  },
  {
   "attachments": {},
   "cell_type": "markdown",
   "metadata": {},
   "source": [
    "## 第16章 霍夫变换\n",
    "### 16.1 霍夫直线变换\n",
    "### 16.2 霍夫圆环变换"
   ]
  },
  {
   "attachments": {},
   "cell_type": "markdown",
   "metadata": {},
   "source": [
    "## 第17章 图像分割与提取\n",
    "### 17.1 用分水岭算法实现图像分割与提取\n",
    "### 17.2 交互式前景提取"
   ]
  },
  {
   "attachments": {},
   "cell_type": "markdown",
   "metadata": {},
   "source": [
    "## 第18章 视频处理\n",
    "### 18.1 VideoCapture类\n",
    "### 18.2 VideoWriter类\n",
    "### 18.3 视频操作基础"
   ]
  },
  {
   "attachments": {},
   "cell_type": "markdown",
   "metadata": {},
   "source": [
    "## 第19章 绘图及交互\n",
    "### 19.1 绘画基础\n",
    "### 19.2 鼠标交互\n",
    "### 19.3 滚动条"
   ]
  },
  {
   "attachments": {},
   "cell_type": "markdown",
   "metadata": {},
   "source": [
    "## 第20章 K近邻算法\n",
    "### 20.1 理论基础\n",
    "### 20.2 计算\n",
    "### 20.2 手写数字识别的原理\n",
    "### 20.3 自定义函数手写数字识别\n",
    "### 20.4 K近邻模块的基本使用\n",
    "### 20.5 K近邻手写数字识别"
   ]
  },
  {
   "attachments": {},
   "cell_type": "markdown",
   "metadata": {},
   "source": [
    "## 第21章 支持向量机\n",
    "### 21.1 理论基础\n",
    "### 21.2 SVM案例介绍"
   ]
  },
  {
   "attachments": {},
   "cell_type": "markdown",
   "metadata": {},
   "source": [
    "## 第22章K均值聚类\n",
    "### 22.1 理论基础\n",
    "### 22.2 K均值聚类模块\n",
    "### 22.3 简单示例"
   ]
  },
  {
   "attachments": {},
   "cell_type": "markdown",
   "metadata": {},
   "source": [
    "## 第23章 人脸识别\n",
    "### 23.1 人脸检测\n",
    "### 23.2 LBPH人脸识别\n",
    "### 23.3 EigenFaces人脸识别\n",
    "### 23.4 Fisherfaces人脸识别\n",
    "### 23.5 人脸数据库"
   ]
  }
 ],
 "metadata": {
  "language_info": {
   "name": "python"
  },
  "orig_nbformat": 4
 },
 "nbformat": 4,
 "nbformat_minor": 2
}
