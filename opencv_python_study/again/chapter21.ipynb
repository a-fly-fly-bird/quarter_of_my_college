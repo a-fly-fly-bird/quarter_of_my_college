{
 "cells": [
  {
   "attachments": {},
   "cell_type": "markdown",
   "metadata": {},
   "source": [
    "# 支持向量机 SVM"
   ]
  },
  {
   "attachments": {},
   "cell_type": "markdown",
   "metadata": {},
   "source": [
    "这一节书里也讲的好好。"
   ]
  },
  {
   "attachments": {},
   "cell_type": "markdown",
   "metadata": {},
   "source": [
    "支持向量机（Support Vector Machine, SVM）是一种二分类模型，目标是寻找一个标准（称为超平面）对样本数据进行分割，分割的原则是确保分类最优化（类别之间的间隔最大）。\n",
    "\n",
    "当数据集较小时，使用支持向量机进行分类非常有效。支持向量机是最好的现成分类器之一，这里所谓的“现成”是指分类器不加修改即可直接使用。"
   ]
  },
  {
   "attachments": {},
   "cell_type": "markdown",
   "metadata": {},
   "source": [
    "Python提供了不同的实现支持向量机的库（例如sk-learn库、LIBSVM库等）,OpenCV也提供了对支持向量机的支持，对于上述库，基本都可以直接使用，无须深入了解支持向量机的原理。"
   ]
  },
  {
   "attachments": {},
   "cell_type": "markdown",
   "metadata": {},
   "source": [
    "## 原理"
   ]
  },
  {
   "attachments": {},
   "cell_type": "markdown",
   "metadata": {},
   "source": [
    "在构造分类器时，非常重要的一项工作就是找到最优分类器。\n",
    "\n",
    "如何找到支持向量机：在已有数据中，找到离分类器最近的点，确保它们离分类器尽可能地远。"
   ]
  },
  {
   "attachments": {},
   "cell_type": "markdown",
   "metadata": {},
   "source": [
    "### 将不可分变成可分\n",
    "\n",
    "举个例子，假设我们不小心将豌豆和小米混在了一起。豌豆的个头很大，直径在10mm左右；小米个头小，直径在1mm左右。如果想把它们分开，直接使用直线是不行的。此时，我们可以使用直径为3 mm的筛子，将豌豆和小米区分开。在某种意义上，这个筛子就是映射操作，它将豌豆和小米有效地分开了。\n",
    "\n",
    "![svm的解释](images/svm_explain.jpg)"
   ]
  },
  {
   "attachments": {},
   "cell_type": "markdown",
   "metadata": {},
   "source": [
    "# OpenCV SVM 案例"
   ]
  },
  {
   "cell_type": "code",
   "execution_count": 1,
   "metadata": {},
   "outputs": [
    {
     "data": {
      "image/png": "[encoded data removed]",
      "text/plain": [
       "<Figure size 640x480 with 1 Axes>"
      ]
     },
     "metadata": {},
     "output_type": "display_data"
    },
    {
     "name": "stdout",
     "output_type": "stream",
     "text": [
      "[[98. 90.]\n",
      " [90. 99.]]\n",
      "[[0.]\n",
      " [0.]]\n"
     ]
    }
   ],
   "source": [
    "import cv2\n",
    "import numpy as np\n",
    "import matplotlib.pyplot as plt\n",
    "# 第1步 准备数据\n",
    "# 表现为A级的员工的笔试、面试成绩\n",
    "a = np.random.randint(95,100, (20, 2)).astype(np.float32)\n",
    "# 表现为B级的员工的笔试、面试成绩\n",
    "b = np.random.randint(90,95, (20, 2)).astype(np.float32)\n",
    "# 合并数据\n",
    "data = np.vstack((a, b))\n",
    "data = np.array(data, dtype='float32')\n",
    "# 第2步 建立分组标签，0代表A级，1代表B级\n",
    "#aLabel对应着a的标签，为类型0-等级A\n",
    "aLabel=np.zeros((20,1))\n",
    "#bLabel对应着b的标签，为类型1-等级B\n",
    "bLabel=np.ones((20,1))\n",
    "# 合并标签\n",
    "label = np.vstack((aLabel, bLabel))\n",
    "label = np.array(label, dtype='int32')\n",
    "# 第3步 训练\n",
    "# 用ml机器学习模块 SVM_create() 创建svm\n",
    "svm = cv2.ml.SVM_create()\n",
    "# 属性设置，直接采用默认值即可\n",
    "#svm.setType(cv2.ml.SVM_C_SVC) # svm type\n",
    "#svm.setKernel(cv2.ml.SVM_LINEAR) # line\n",
    "#svm.setC(0.01)\n",
    "# 训练\n",
    "result = svm.train(data, cv2.ml.ROW_SAMPLE, label)\n",
    "# 第4步 预测\n",
    "# 生成两个随机的笔试成绩和面试成绩数据对\n",
    "test = np.vstack([[98,90], [90,99]])\n",
    "test = np.array(test, dtype='float32')\n",
    "# 预测\n",
    "(p1, p2) = svm.predict(test)\n",
    "# 第5步 观察结果\n",
    "# 可视化\n",
    "plt.scatter(a[:,0], a[:,1], 80, 'g', 'o')\n",
    "plt.scatter(b[:,0], b[:,1], 80, 'b', 's')\n",
    "plt.scatter(test[:,0], test[:,1], 80, 'r', '*')\n",
    "plt.show()\n",
    "# 打印原始测试数据test，预测结果\n",
    "print(test)\n",
    "print(p2)"
   ]
  }
 ],
 "metadata": {
  "kernelspec": {
   "display_name": "pytorch_gpu",
   "language": "python",
   "name": "python3"
  },
  "language_info": {
   "codemirror_mode": {
    "name": "ipython",
    "version": 3
   },
   "file_extension": ".py",
   "mimetype": "text/x-python",
   "name": "python",
   "nbconvert_exporter": "python",
   "pygments_lexer": "ipython3",
   "version": "3.8.15"
  },
  "orig_nbformat": 4,
  "vscode": {
   "interpreter": {
    "hash": "a2535c30116986672290feb3a53d70196bcf0e2d51e468e2dff75ded201ed0f4"
   }
  }
 },
 "nbformat": 4,
 "nbformat_minor": 2
}
